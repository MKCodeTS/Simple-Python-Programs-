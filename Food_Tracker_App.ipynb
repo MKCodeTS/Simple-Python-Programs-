{
  "nbformat": 4,
  "nbformat_minor": 0,
  "metadata": {
    "colab": {
      "name": "Food Tracker App",
      "provenance": [],
      "authorship_tag": "ABX9TyPirN/u3DLP3tWpcryBrGFU",
      "include_colab_link": true
    },
    "kernelspec": {
      "name": "python3",
      "display_name": "Python 3"
    }
  },
  "cells": [
    {
      "cell_type": "markdown",
      "metadata": {
        "id": "view-in-github",
        "colab_type": "text"
      },
      "source": [
        "<a href=\"https://colab.research.google.com/github/MKCodeTS/Simple-Python-Programs-/blob/main/Food_Tracker_App.ipynb\" target=\"_parent\"><img src=\"https://colab.research.google.com/assets/colab-badge.svg\" alt=\"Open In Colab\"/></a>"
      ]
    },
    {
      "cell_type": "code",
      "metadata": {
        "colab": {
          "base_uri": "https://localhost:8080/"
        },
        "id": "87He9tovvfJf",
        "outputId": "a98ce7fc-5951-4101-803f-22408ed97e82"
      },
      "source": [
        "print('-' *30)\n",
        "print(\"Food Tracker App\")\n",
        "print('-' *30)\n",
        "print()\n",
        "\n",
        "print(\"It is Saturday. Should I eat cake and ice-cream today?\")\n",
        "weekdays= ['Sunday', 'Monday', 'Tuesday', 'Wednesday', 'Thursday', 'Friday']\n",
        "answers=[]\n",
        "\n",
        "for i in weekdays:\n",
        "    print(f'Did you eat healthy on {i}?: ')\n",
        "    answer= input(\" 'Y' or 'N' \")\n",
        "    if answer== 'Y':\n",
        "        answers.append(answer)\n",
        "\n",
        "print()\n",
        "print('Calculating the answer...')\n",
        "\n",
        "if len(answers)== 6:\n",
        "    print('Yes, you can eat cake and ice_cream')\n",
        "elif len(answer)== 5:\n",
        "    print('Maybe lay off the ice-cream')\n",
        "else:\n",
        "    print('You cannot have cake nor the ice-cream today')"
      ],
      "execution_count": 1,
      "outputs": [
        {
          "output_type": "stream",
          "text": [
            "------------------------------\n",
            "Food Tracker App\n",
            "------------------------------\n",
            "\n",
            "It is Saturday. Should I eat cake and ice-cream today?\n",
            "Did you eat healthy on Sunday?: \n",
            " 'Y' or 'N' y\n",
            "Did you eat healthy on Monday?: \n",
            " 'Y' or 'N' n\n",
            "Did you eat healthy on Tuesday?: \n",
            " 'Y' or 'N' o\n",
            "Did you eat healthy on Wednesday?: \n",
            " 'Y' or 'N' y\n",
            "Did you eat healthy on Thursday?: \n",
            " 'Y' or 'N' n\n",
            "Did you eat healthy on Friday?: \n",
            " 'Y' or 'N' j\n",
            "\n",
            "Calculating the answer...\n",
            "You cannot have anything naughty today\n"
          ],
          "name": "stdout"
        }
      ]
    }
  ]
}