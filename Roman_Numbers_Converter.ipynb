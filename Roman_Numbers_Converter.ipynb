{
  "nbformat": 4,
  "nbformat_minor": 0,
  "metadata": {
    "colab": {
      "name": "Roman Numbers Converter ",
      "provenance": [],
      "authorship_tag": "ABX9TyNtQaIwANtmy8IxYXdqAJnR",
      "include_colab_link": true
    },
    "kernelspec": {
      "name": "python3",
      "display_name": "Python 3"
    }
  },
  "cells": [
    {
      "cell_type": "markdown",
      "metadata": {
        "id": "view-in-github",
        "colab_type": "text"
      },
      "source": [
        "<a href=\"https://colab.research.google.com/github/MKCodeTS/Simple-Python-Programs-/blob/main/Roman_Numbers_Converter.ipynb\" target=\"_parent\"><img src=\"https://colab.research.google.com/assets/colab-badge.svg\" alt=\"Open In Colab\"/></a>"
      ]
    },
    {
      "cell_type": "code",
      "metadata": {
        "colab": {
          "base_uri": "https://localhost:8080/",
          "height": 188
        },
        "id": "TR54Z9VreQY3",
        "outputId": "72d95a74-7ac8-4934-af5b-48822e97a8d9"
      },
      "source": [
        "def roman_number(number):\n",
        "    roman={1:'I', 5:'V', 10: 'X', 50: 'L', 100: 'C', 500:'D', 1000: 'M'}\n",
        "\n",
        "    output=[]\n",
        "    divisor= 1000\n",
        "    print(f'roman_number({number})')\n",
        "    for digit in [int(x) for x in str(number)]:\n",
        "        print(f'   digit={digit} divisor={divisor}')\n",
        "        if 1 <= digit <=3:\n",
        "            #e.g. 3 -> 3xIII\n",
        "            output.append( roman[divisor] * digit)\n",
        "        elif digit == 4:\n",
        "            output.append(roman[divisor] + roman[divisor * 5])\n",
        "        elif 5 <= digit <=8:\n",
        "            output.append(roman[divisor * 5] + roman[digit] * (divisor-5) )\n",
        "        elif digit ==9:\n",
        "            output.append(roman[divisor] + roman[divisor * 10])\n",
        "\n",
        "        divisor = int(divisor/10)\n",
        "        print('    ', output)\n",
        "\n",
        "    return ''.join(output)\n",
        "\n",
        "roman_number(2021)"
      ],
      "execution_count": 1,
      "outputs": [
        {
          "output_type": "stream",
          "text": [
            "roman_number(2021)\n",
            "   digit=2 divisor=1000\n",
            "     ['MM']\n",
            "   digit=0 divisor=100\n",
            "     ['MM']\n",
            "   digit=2 divisor=10\n",
            "     ['MM', 'XX']\n",
            "   digit=1 divisor=1\n",
            "     ['MM', 'XX', 'I']\n"
          ],
          "name": "stdout"
        },
        {
          "output_type": "execute_result",
          "data": {
            "application/vnd.google.colaboratory.intrinsic+json": {
              "type": "string"
            },
            "text/plain": [
              "'MMXXI'"
            ]
          },
          "metadata": {
            "tags": []
          },
          "execution_count": 1
        }
      ]
    }
  ]
}